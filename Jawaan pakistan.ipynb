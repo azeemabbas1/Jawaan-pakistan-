{
 "cells": [
  {
   "cell_type": "code",
   "execution_count": null,
   "id": "bf3e8012",
   "metadata": {},
   "outputs": [],
   "source": [
    "print(\"hello world\")\n"
   ]
  },
  {
   "cell_type": "code",
   "execution_count": null,
   "id": "ecce78d6",
   "metadata": {},
   "outputs": [],
   "source": [
    "#A = 5 \n",
    "b = 10\n",
    "#C = A+b\n",
    "#print(C);\n"
   ]
  },
  {
   "cell_type": "code",
   "execution_count": 19,
   "id": "925f751b",
   "metadata": {},
   "outputs": [
    {
     "name": "stdout",
     "output_type": "stream",
     "text": [
      "48\n"
     ]
    }
   ],
   "source": [
    "#strings concatenation\n",
    "#a = \"4\"\n",
    "b = \"8\"\n",
    "#D = a + b\n",
    "print(D)"
   ]
  },
  {
   "cell_type": "code",
   "execution_count": 20,
   "id": "c7375673",
   "metadata": {},
   "outputs": [
    {
     "name": "stdout",
     "output_type": "stream",
     "text": [
      "55.0\n"
     ]
    }
   ],
   "source": [
    "#a = 12 - 4 / 2 + 9 * 5\n",
    "#print (a)"
   ]
  },
  {
   "cell_type": "code",
   "execution_count": 24,
   "id": "c78e57dc",
   "metadata": {},
   "outputs": [
    {
     "name": "stdout",
     "output_type": "stream",
     "text": [
      "3.6363636363636367\n"
     ]
    }
   ],
   "source": [
    "#a =  ((12 - 4) / (2 + 9) * 5)\n",
    "print (a)\n"
   ]
  },
  {
   "cell_type": "code",
   "execution_count": 1,
   "id": "cb076592",
   "metadata": {},
   "outputs": [
    {
     "name": "stdout",
     "output_type": "stream",
     "text": [
      "Twinkle, twinkle, liite star \n",
      "         How I wonder what you are!  \n",
      "               up the above so world so high, \n",
      "               like a diomond in the sky. \n",
      " Twinkle,Twinkle,little star,  \n",
      "         How I wonder what you are\n"
     ]
    }
   ],
   "source": [
    "#writting strings in following format \n",
    "print (\"Twinkle, twinkle, liite star \\n         How I wonder what you are!  \\n               up the above so world so high, \\n               like a diomond in the sky. \\n Twinkle,Twinkle,little star,  \\n         How I wonder what you are\")"
   ]
  },
  {
   "cell_type": "code",
   "execution_count": 50,
   "id": "759b5546",
   "metadata": {},
   "outputs": [
    {
     "name": "stdout",
     "output_type": "stream",
     "text": [
      " year: 22\n"
     ]
    }
   ],
   "source": [
    "# how to import date and time in python\n",
    "from datetime import datetime\n",
    "\n",
    "now = datetime.now()\n",
    "Year = now.strftime (\"%y\")\n",
    "print (\" year:\",Year)\n"
   ]
  },
  {
   "cell_type": "code",
   "execution_count": 51,
   "id": "14197740",
   "metadata": {},
   "outputs": [
    {
     "name": "stdout",
     "output_type": "stream",
     "text": [
      "date and time: 01/01/22, 21:24:34\n"
     ]
    }
   ],
   "source": [
    "# how to import date and time in python\n",
    "date_time = now.strftime(\"%m/%d/%y, %H:%M:%S\")\n",
    "print(\"date and time:\",date_time)"
   ]
  },
  {
   "cell_type": "code",
   "execution_count": 55,
   "id": "1aa6bfd5",
   "metadata": {},
   "outputs": [
    {
     "name": "stdout",
     "output_type": "stream",
     "text": [
      "enter the radius of circle  6\n",
      "area of the circle is 113.09733552923255\n"
     ]
    }
   ],
   "source": [
    "#accept the radius of circle from the user and copmute the  area \n",
    "from math import pi\n",
    "r = float(input (\"enter the radius of circle\"))\n",
    "print(\"area of the circle is \" +str(pi*r**2))\n"
   ]
  },
  {
   "cell_type": "code",
   "execution_count": 59,
   "id": "2c2a4257",
   "metadata": {},
   "outputs": [
    {
     "name": "stdout",
     "output_type": "stream",
     "text": [
      "3.9.7 (default, Sep 16 2021, 16:59:28) [MSC v.1916 64 bit (AMD64)]\n"
     ]
    }
   ],
   "source": [
    "#how to get to know the python version\n",
    "import sys\n",
    "print(sys.version)"
   ]
  },
  {
   "cell_type": "code",
   "execution_count": null,
   "id": "e9679ef6",
   "metadata": {},
   "outputs": [],
   "source": [
    "#Q1:Program which takes two imput from user and print them addition?\n",
    "fname = input(\"Enter fname: \")\n",
    "lname = input(\"Enter lname: \")\n",
    "full_name = fname + ' ' + lname\n",
    "print(full_name)"
   ]
  },
  {
   "cell_type": "code",
   "execution_count": null,
   "id": "37dc3e0a",
   "metadata": {},
   "outputs": [],
   "source": [
    "#Q2: python program which accepts users first and last name and print them in reverse order with space batween them?\n",
    "fname = input(\"Enter fname: \")\n",
    "lname = input(\"Enter lname: \")\n",
    "full_name = lname + ' ' + fname\n",
    "print(full_name)"
   ]
  },
  {
   "cell_type": "code",
   "execution_count": null,
   "id": "69611607",
   "metadata": {},
   "outputs": [],
   "source": []
  },
  {
   "cell_type": "code",
   "execution_count": null,
   "id": "12e0bf11",
   "metadata": {},
   "outputs": [],
   "source": []
  },
  {
   "cell_type": "code",
   "execution_count": null,
   "id": "d30df7e3",
   "metadata": {},
   "outputs": [],
   "source": []
  },
  {
   "cell_type": "code",
   "execution_count": null,
   "id": "0e3d2ce8",
   "metadata": {},
   "outputs": [],
   "source": []
  }
 ],
 "metadata": {
  "kernelspec": {
   "display_name": "Python 3 (ipykernel)",
   "language": "python",
   "name": "python3"
  },
  "language_info": {
   "codemirror_mode": {
    "name": "ipython",
    "version": 3
   },
   "file_extension": ".py",
   "mimetype": "text/x-python",
   "name": "python",
   "nbconvert_exporter": "python",
   "pygments_lexer": "ipython3",
   "version": "3.9.7"
  }
 },
 "nbformat": 4,
 "nbformat_minor": 5
}
